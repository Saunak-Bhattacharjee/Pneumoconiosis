{
 "cells": [
  {
   "cell_type": "code",
   "execution_count": 7,
   "id": "d18d5f2a-6349-4cda-94d5-cc5529132bf0",
   "metadata": {},
   "outputs": [
    {
     "data": {
      "text/plain": [
       "(<Tile #1 - 3_01_01.png>,\n",
       " <Tile #2 - 3_01_02.png>,\n",
       " <Tile #3 - 3_01_03.png>,\n",
       " <Tile #4 - 3_01_04.png>,\n",
       " <Tile #5 - 3_02_01.png>,\n",
       " <Tile #6 - 3_02_02.png>,\n",
       " <Tile #7 - 3_02_03.png>,\n",
       " <Tile #8 - 3_02_04.png>,\n",
       " <Tile #9 - 3_03_01.png>,\n",
       " <Tile #10 - 3_03_02.png>,\n",
       " <Tile #11 - 3_03_03.png>,\n",
       " <Tile #12 - 3_03_04.png>)"
      ]
     },
     "execution_count": 7,
     "metadata": {},
     "output_type": "execute_result"
    }
   ],
   "source": [
    "import os\n",
    "import image_slicer\n",
    "image_slicer.slice('C:/Users/sauna/Silicosis detection/Splitting the images into 6 subregions/3.png',12)"
   ]
  },
  {
   "cell_type": "code",
   "execution_count": null,
   "id": "b9bac99c-8dbb-401f-8528-30becb7ba891",
   "metadata": {},
   "outputs": [],
   "source": []
  }
 ],
 "metadata": {
  "kernelspec": {
   "display_name": "Python 3 (ipykernel)",
   "language": "python",
   "name": "python3"
  },
  "language_info": {
   "codemirror_mode": {
    "name": "ipython",
    "version": 3
   },
   "file_extension": ".py",
   "mimetype": "text/x-python",
   "name": "python",
   "nbconvert_exporter": "python",
   "pygments_lexer": "ipython3",
   "version": "3.8.11"
  }
 },
 "nbformat": 4,
 "nbformat_minor": 5
}
